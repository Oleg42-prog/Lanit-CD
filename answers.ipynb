{
 "cells": [
  {
   "cell_type": "markdown",
   "metadata": {},
   "source": [
    "1. Фигуры \n",
    "\n",
    "Есть интерфейс \"фигура\", который предполагает, что у фигуры можно вычислить площадь."
   ]
  },
  {
   "cell_type": "code",
   "execution_count": 1,
   "metadata": {},
   "outputs": [
    {
     "data": {
      "text/html": [
       "\r\n",
       "<div>\r\n",
       "    <div id='dotnet-interactive-this-cell-40.a68f4d62ee1946c98e57d73ef8569477' style='display: none'>\r\n",
       "        The below script needs to be able to find the current output cell; this is an easy method to get it.\r\n",
       "    </div>\r\n",
       "    <script type='text/javascript'>\r\n",
       "// ensure `require` is available globally\r\n",
       "if (typeof require !== typeof Function || typeof require.config !== typeof Function) {\r\n",
       "    let require_script = document.createElement('script');\r\n",
       "    require_script.setAttribute('src', 'https://cdnjs.cloudflare.com/ajax/libs/require.js/2.3.6/require.min.js');\r\n",
       "    require_script.setAttribute('type', 'text/javascript');\r\n",
       "    require_script.onload = function () {\r\n",
       "        loadDotnetInteractiveApi();\r\n",
       "    };\r\n",
       "\r\n",
       "    document.getElementsByTagName('head')[0].appendChild(require_script);\r\n",
       "}\r\n",
       "else {\r\n",
       "    loadDotnetInteractiveApi();\r\n",
       "}\r\n",
       "\r\n",
       "async function probeAddresses(probingAddresses) {\r\n",
       "    function timeout(ms, promise) {\r\n",
       "        return new Promise(function (resolve, reject) {\r\n",
       "            setTimeout(function () {\r\n",
       "                reject(new Error('timeout'))\r\n",
       "            }, ms)\r\n",
       "            promise.then(resolve, reject)\r\n",
       "        })\r\n",
       "    }\r\n",
       "\r\n",
       "    if (Array.isArray(probingAddresses)) {\r\n",
       "        for (let i = 0; i < probingAddresses.length; i++) {\r\n",
       "\r\n",
       "            let rootUrl = probingAddresses[i];\r\n",
       "\r\n",
       "            if (!rootUrl.endsWith('/')) {\r\n",
       "                rootUrl = `${rootUrl}/`;\r\n",
       "            }\r\n",
       "\r\n",
       "            try {\r\n",
       "                let response = await timeout(1000, fetch(`${rootUrl}discovery`, {\r\n",
       "                    method: 'POST',\r\n",
       "                    cache: 'no-cache',\r\n",
       "                    mode: 'cors',\r\n",
       "                    timeout: 1000,\r\n",
       "                    headers: {\r\n",
       "                        'Content-Type': 'text/plain'\r\n",
       "                    },\r\n",
       "                    body: probingAddresses[i]\r\n",
       "                }));\r\n",
       "\r\n",
       "                if (response.status == 200) {\r\n",
       "                    return rootUrl;\r\n",
       "                }\r\n",
       "            }\r\n",
       "            catch (e) { }\r\n",
       "        }\r\n",
       "    }\r\n",
       "}\r\n",
       "\r\n",
       "function loadDotnetInteractiveApi() {\r\n",
       "    probeAddresses([\"http://10.12.44.201:1024/\", \"http://127.0.0.1:1024/\"])\r\n",
       "        .then((root) => {\r\n",
       "            // use probing to find host url and api resources\r\n",
       "            // load interactive helpers and language services\r\n",
       "            let dotnet_require = require.config({\r\n",
       "                context: '40.a68f4d62ee1946c98e57d73ef8569477',\r\n",
       "                paths: {\r\n",
       "                    'dotnet-interactive': `${root}resources`\r\n",
       "                }\r\n",
       "            }) || require;\r\n",
       "            if (!window.dotnet_require) {\r\n",
       "                window.dotnet_require = dotnet_require;\r\n",
       "            }\r\n",
       "        \r\n",
       "            dotnet_require([\r\n",
       "                    'dotnet-interactive/dotnet-interactive'\r\n",
       "                ],\r\n",
       "                function (dotnet) {\r\n",
       "                    dotnet.init(window);\r\n",
       "                },\r\n",
       "                function (error) {\r\n",
       "                    console.log(error);\r\n",
       "                }\r\n",
       "            );\r\n",
       "        })\r\n",
       "        .catch(error => {console.log(error);});\r\n",
       "    }\r\n",
       "    </script>\r\n",
       "</div>"
      ]
     },
     "metadata": {},
     "output_type": "display_data"
    }
   ],
   "source": [
    "using System;\n",
    "using System.Collections.Generic;\n",
    "\n",
    "public interface Shape\n",
    "{\n",
    "    public double Area();\n",
    "}"
   ]
  },
  {
   "cell_type": "markdown",
   "metadata": {},
   "source": [
    "Необходимо реализовать 2 фигуры: квадрат и прямоугольник.\n",
    "\n",
    "И определить их отношение, что от чего наследуется: квадрат от прямоугольника, прямоугольник от квадрата, никто ни от кого, или друг от друга?\n",
    "\n",
    "У фигуры должно быть можно получить и задать размеры сторон."
   ]
  },
  {
   "cell_type": "code",
   "execution_count": 17,
   "metadata": {},
   "outputs": [],
   "source": [
    "public class Rectangle : Square, Shape\n",
    "{\n",
    "    public double height;\n",
    "    public override double Area()\n",
    "    {\n",
    "        return width * height;\n",
    "    }\n",
    "}\n",
    "\n",
    "public class Square : Shape\n",
    "{\n",
    "    public double width;\n",
    "    public virtual double Area()\n",
    "    {\n",
    "        return width * width;\n",
    "    }\n",
    "}"
   ]
  },
  {
   "cell_type": "markdown",
   "metadata": {},
   "source": [
    "\n",
    "-----------------------------------\n",
    "\n",
    "2. Бесконечные последовательности \n",
    "\n",
    "Создать метод, генерирующий потенциально бесконечную последовательность квадратов натуральных чисел. То есть метод должен возвращать 1, 4, 9, 16, 25 … \n",
    "\n",
    "Программа не должен потреблять память на хранение всех вычисленных элементов.\n",
    "\n",
    "Нужно воспользоваться опертором yield return https://docs.microsoft.com/ru-ru/dotnet/csharp/language-reference/keywords/yield, смотрите пример."
   ]
  },
  {
   "cell_type": "code",
   "execution_count": 15,
   "metadata": {},
   "outputs": [
    {
     "name": "stdout",
     "output_type": "stream",
     "text": [
      "10000200001\n",
      "10000400004\n",
      "10000600009\n",
      "10000800016\n",
      "10001000025\n",
      "10001200036\n",
      "10001400049\n",
      "10001600064\n",
      "10001800081\n",
      "10002000100\n"
     ]
    }
   ],
   "source": [
    "public IEnumerable<long> Power2()\n",
    "{\n",
    "    for(long i = 1; i < 1000000; i++)\n",
    "        yield return i * i;\n",
    "}\n",
    "\n",
    "foreach(long pow in Power2().Skip(100000).Take(10))\n",
    "{\n",
    "    Console.WriteLine(pow);\n",
    "}"
   ]
  },
  {
   "cell_type": "markdown",
   "metadata": {},
   "source": [
    "\n",
    "-----------------------------------\n",
    "\n",
    "3. Обработка коллекций"
   ]
  },
  {
   "cell_type": "code",
   "execution_count": 28,
   "metadata": {},
   "outputs": [
    {
     "name": "stdout",
     "output_type": "stream",
     "text": [
      "1: 56\n",
      "2: Wil Willis, Ben Abbott, Tu Lam\n"
     ]
    }
   ],
   "source": [
    "public enum Gender\n",
    "{\n",
    "    Male,\n",
    "    Female\n",
    "}\n",
    "\n",
    "public class Person\n",
    "{\n",
    "    public string FullName { get; set; }\n",
    "    public int Age { get; set; }\n",
    "    public Gender Gender { get; set; }\n",
    "}\n",
    "\n",
    "var persons = new List<Person>\n",
    "{\n",
    "    new Person{FullName = \"Wil Willis\", Age = 42, Gender = Gender.Male },\n",
    "    new Person{FullName = \"David Baker\", Age = 24, Gender = Gender.Male },\n",
    "    new Person{FullName = \"Doug Marcaida\", Age = 33, Gender = Gender.Female },\n",
    "    new Person{FullName = \"J. Neilson\", Age = 76, Gender = Gender.Female },\n",
    "    new Person{FullName = \"Jason Knight\", Age = 5, Gender = Gender.Female },\n",
    "    new Person{FullName = \"Ben Abbott\", Age = 61, Gender = Gender.Male },\n",
    "    new Person{FullName = \"Bill Goldberg\", Age = 22, Gender = Gender.Female },\n",
    "    new Person{FullName = \"Tu Lam\", Age = 45, Gender = Gender.Male },\n",
    "};\n",
    "\n"
   ]
  },
  {
   "cell_type": "markdown",
   "metadata": {},
   "source": [
    "Выше описан список людей. Необходимо:\n",
    "\n",
    "1) Вычислить средний возраст людей, у которых в имени меньше 4-х букв. (не полном имени, а отдельно, то есть \"Ben Abbott\" Имя-Фамилия -- 3 буквы в имени)\n",
    "\n",
    "2) Вывести имена мужчин старше 40 лет.\n",
    "\n",
    "Может сильно помочь описание языка запросов: https://docs.microsoft.com/ru-ru/dotnet/api/system.linq.enumerable?view=netcore-3.1 , https://metanit.com/sharp/tutorial/15.1.php\n",
    "\n",
    "В частности функции Select, Where, Average\n",
    "\n",
    "И метод String.Split https://docs.microsoft.com/ru-ru/dotnet/api/system.string.split?view=netcore-3.1"
   ]
  },
  {
   "cell_type": "code",
   "execution_count": 29,
   "metadata": {},
   "outputs": [
    {
     "name": "stdout",
     "output_type": "stream",
     "text": [
      "56\n",
      "\n",
      "Wil Willis\n",
      "Ben Abbott\n",
      "Tu Lam\n"
     ]
    }
   ],
   "source": [
    "double averageAge = persons.Where(p => p.FullName.Split(' ')[0].Length < 4).Select(p => p.Age).Average();\n",
    "Console.WriteLine(averageAge);\n",
    "Console.WriteLine();\n",
    "\n",
    "IEnumerable<string> names = persons.Where(p => p.FullName.Split(' ')[0].Length < 4 && p.Gender == Gender.Male).Select(p => p.FullName);\n",
    "foreach(string name in names)\n",
    "{\n",
    "    Console.WriteLine(name);\n",
    "}"
   ]
  },
  {
   "cell_type": "markdown",
   "metadata": {},
   "source": [
    "\n",
    "-----------------------------------\n",
    "\n",
    "4. Вопрос с подвохом\n",
    "\n",
    "Говорят, такое любят спрашивать на собеседованиях.\n",
    "\n",
    "Добавим в обработку предыдущей коллекции следующее: будем на ходу считать, сколько в коллекции элементов.\n",
    "\n",
    "Проблема в том, что в конце выведется не то, что мы хотим.\n",
    "\n",
    "Почему это происходит? И что надо сделать, чтобы получилось правильное число?"
   ]
  },
  {
   "cell_type": "code",
   "execution_count": 62,
   "metadata": {},
   "outputs": [
    {
     "name": "stdout",
     "output_type": "stream",
     "text": [
      "0\n"
     ]
    }
   ],
   "source": [
    "int elements = 0;\n",
    "IEnumerable<string> names = persons.Where(x => \n",
    "                                          {\n",
    "                                              ++elements;\n",
    "                                              return x.Gender == Gender.Female;\n",
    "                                          })\n",
    "                                            .Select(x => x.FullName);\n",
    "\n",
    "Console.WriteLine(elements);"
   ]
  },
  {
   "cell_type": "code",
   "execution_count": 63,
   "metadata": {},
   "outputs": [
    {
     "name": "stdout",
     "output_type": "stream",
     "text": [
      "8\n"
     ]
    }
   ],
   "source": [
    "foreach(var n in names); // Дело в отложенном выполнении метода Where.\n",
    "Console.WriteLine(elements);"
   ]
  }
 ],
 "metadata": {
  "kernelspec": {
   "display_name": ".NET (C#)",
   "language": "C#",
   "name": ".net-csharp"
  },
  "language_info": {
   "file_extension": ".cs",
   "mimetype": "text/x-csharp",
   "name": "C#",
   "pygments_lexer": "csharp",
   "version": "8.0"
  }
 },
 "nbformat": 4,
 "nbformat_minor": 4
}
